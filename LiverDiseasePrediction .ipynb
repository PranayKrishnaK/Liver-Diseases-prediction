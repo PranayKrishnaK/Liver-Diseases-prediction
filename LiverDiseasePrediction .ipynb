{
 "cells": [
  {
   "cell_type": "code",
   "execution_count": 1,
   "metadata": {
    "id": "4vl7w5M1B8t0"
   },
   "outputs": [],
   "source": [
    "import numpy as np\n",
    "import pandas as pd\n",
    "import matplotlib.pyplot as plt\n",
    "import seaborn as sns"
   ]
  },
  {
   "cell_type": "code",
   "execution_count": 2,
   "metadata": {
    "id": "8yYSYkjMDCjA"
   },
   "outputs": [],
   "source": [
    "dataset = pd.read_csv('indian_liver_patient.csv')"
   ]
  },
  {
   "cell_type": "code",
   "execution_count": 3,
   "metadata": {
    "colab": {
     "base_uri": "https://localhost:8080/",
     "height": 218
    },
    "id": "i449TlsjDGyc",
    "outputId": "200d0362-b39e-4fca-d6d9-7837f51bcff6"
   },
   "outputs": [
    {
     "data": {
      "text/html": [
       "<div>\n",
       "<style scoped>\n",
       "    .dataframe tbody tr th:only-of-type {\n",
       "        vertical-align: middle;\n",
       "    }\n",
       "\n",
       "    .dataframe tbody tr th {\n",
       "        vertical-align: top;\n",
       "    }\n",
       "\n",
       "    .dataframe thead th {\n",
       "        text-align: right;\n",
       "    }\n",
       "</style>\n",
       "<table border=\"1\" class=\"dataframe\">\n",
       "  <thead>\n",
       "    <tr style=\"text-align: right;\">\n",
       "      <th></th>\n",
       "      <th>Age</th>\n",
       "      <th>Gender</th>\n",
       "      <th>Total_Bilirubin</th>\n",
       "      <th>Direct_Bilirubin</th>\n",
       "      <th>Alkaline_Phosphotase</th>\n",
       "      <th>Alamine_Aminotransferase</th>\n",
       "      <th>Aspartate_Aminotransferase</th>\n",
       "      <th>Total_Protiens</th>\n",
       "      <th>Albumin</th>\n",
       "      <th>Albumin_and_Globulin_Ratio</th>\n",
       "      <th>Dataset</th>\n",
       "    </tr>\n",
       "  </thead>\n",
       "  <tbody>\n",
       "    <tr>\n",
       "      <th>0</th>\n",
       "      <td>65</td>\n",
       "      <td>Female</td>\n",
       "      <td>0.7</td>\n",
       "      <td>0.1</td>\n",
       "      <td>187</td>\n",
       "      <td>16</td>\n",
       "      <td>18</td>\n",
       "      <td>6.8</td>\n",
       "      <td>3.3</td>\n",
       "      <td>0.90</td>\n",
       "      <td>1</td>\n",
       "    </tr>\n",
       "    <tr>\n",
       "      <th>1</th>\n",
       "      <td>62</td>\n",
       "      <td>Male</td>\n",
       "      <td>10.9</td>\n",
       "      <td>5.5</td>\n",
       "      <td>699</td>\n",
       "      <td>64</td>\n",
       "      <td>100</td>\n",
       "      <td>7.5</td>\n",
       "      <td>3.2</td>\n",
       "      <td>0.74</td>\n",
       "      <td>1</td>\n",
       "    </tr>\n",
       "    <tr>\n",
       "      <th>2</th>\n",
       "      <td>62</td>\n",
       "      <td>Male</td>\n",
       "      <td>7.3</td>\n",
       "      <td>4.1</td>\n",
       "      <td>490</td>\n",
       "      <td>60</td>\n",
       "      <td>68</td>\n",
       "      <td>7.0</td>\n",
       "      <td>3.3</td>\n",
       "      <td>0.89</td>\n",
       "      <td>1</td>\n",
       "    </tr>\n",
       "    <tr>\n",
       "      <th>3</th>\n",
       "      <td>58</td>\n",
       "      <td>Male</td>\n",
       "      <td>1.0</td>\n",
       "      <td>0.4</td>\n",
       "      <td>182</td>\n",
       "      <td>14</td>\n",
       "      <td>20</td>\n",
       "      <td>6.8</td>\n",
       "      <td>3.4</td>\n",
       "      <td>1.00</td>\n",
       "      <td>1</td>\n",
       "    </tr>\n",
       "    <tr>\n",
       "      <th>4</th>\n",
       "      <td>72</td>\n",
       "      <td>Male</td>\n",
       "      <td>3.9</td>\n",
       "      <td>2.0</td>\n",
       "      <td>195</td>\n",
       "      <td>27</td>\n",
       "      <td>59</td>\n",
       "      <td>7.3</td>\n",
       "      <td>2.4</td>\n",
       "      <td>0.40</td>\n",
       "      <td>1</td>\n",
       "    </tr>\n",
       "  </tbody>\n",
       "</table>\n",
       "</div>"
      ],
      "text/plain": [
       "   Age  Gender  Total_Bilirubin  Direct_Bilirubin  Alkaline_Phosphotase  \\\n",
       "0   65  Female              0.7               0.1                   187   \n",
       "1   62    Male             10.9               5.5                   699   \n",
       "2   62    Male              7.3               4.1                   490   \n",
       "3   58    Male              1.0               0.4                   182   \n",
       "4   72    Male              3.9               2.0                   195   \n",
       "\n",
       "   Alamine_Aminotransferase  Aspartate_Aminotransferase  Total_Protiens  \\\n",
       "0                        16                          18             6.8   \n",
       "1                        64                         100             7.5   \n",
       "2                        60                          68             7.0   \n",
       "3                        14                          20             6.8   \n",
       "4                        27                          59             7.3   \n",
       "\n",
       "   Albumin  Albumin_and_Globulin_Ratio  Dataset  \n",
       "0      3.3                        0.90        1  \n",
       "1      3.2                        0.74        1  \n",
       "2      3.3                        0.89        1  \n",
       "3      3.4                        1.00        1  \n",
       "4      2.4                        0.40        1  "
      ]
     },
     "execution_count": 3,
     "metadata": {},
     "output_type": "execute_result"
    }
   ],
   "source": [
    "dataset.head()"
   ]
  },
  {
   "cell_type": "code",
   "execution_count": 4,
   "metadata": {
    "colab": {
     "base_uri": "https://localhost:8080/",
     "height": 308
    },
    "id": "3uAks6rgDKtg",
    "outputId": "ffcc66f4-9eff-4ecc-b950-fe006e021929"
   },
   "outputs": [
    {
     "data": {
      "text/html": [
       "<div>\n",
       "<style scoped>\n",
       "    .dataframe tbody tr th:only-of-type {\n",
       "        vertical-align: middle;\n",
       "    }\n",
       "\n",
       "    .dataframe tbody tr th {\n",
       "        vertical-align: top;\n",
       "    }\n",
       "\n",
       "    .dataframe thead th {\n",
       "        text-align: right;\n",
       "    }\n",
       "</style>\n",
       "<table border=\"1\" class=\"dataframe\">\n",
       "  <thead>\n",
       "    <tr style=\"text-align: right;\">\n",
       "      <th></th>\n",
       "      <th>Age</th>\n",
       "      <th>Total_Bilirubin</th>\n",
       "      <th>Direct_Bilirubin</th>\n",
       "      <th>Alkaline_Phosphotase</th>\n",
       "      <th>Alamine_Aminotransferase</th>\n",
       "      <th>Aspartate_Aminotransferase</th>\n",
       "      <th>Total_Protiens</th>\n",
       "      <th>Albumin</th>\n",
       "      <th>Albumin_and_Globulin_Ratio</th>\n",
       "      <th>Dataset</th>\n",
       "    </tr>\n",
       "  </thead>\n",
       "  <tbody>\n",
       "    <tr>\n",
       "      <th>count</th>\n",
       "      <td>583.000000</td>\n",
       "      <td>583.000000</td>\n",
       "      <td>583.000000</td>\n",
       "      <td>583.000000</td>\n",
       "      <td>583.000000</td>\n",
       "      <td>583.000000</td>\n",
       "      <td>583.000000</td>\n",
       "      <td>583.000000</td>\n",
       "      <td>579.000000</td>\n",
       "      <td>583.000000</td>\n",
       "    </tr>\n",
       "    <tr>\n",
       "      <th>mean</th>\n",
       "      <td>44.746141</td>\n",
       "      <td>3.298799</td>\n",
       "      <td>1.486106</td>\n",
       "      <td>290.576329</td>\n",
       "      <td>80.713551</td>\n",
       "      <td>109.910806</td>\n",
       "      <td>6.483190</td>\n",
       "      <td>3.141852</td>\n",
       "      <td>0.947064</td>\n",
       "      <td>1.286449</td>\n",
       "    </tr>\n",
       "    <tr>\n",
       "      <th>std</th>\n",
       "      <td>16.189833</td>\n",
       "      <td>6.209522</td>\n",
       "      <td>2.808498</td>\n",
       "      <td>242.937989</td>\n",
       "      <td>182.620356</td>\n",
       "      <td>288.918529</td>\n",
       "      <td>1.085451</td>\n",
       "      <td>0.795519</td>\n",
       "      <td>0.319592</td>\n",
       "      <td>0.452490</td>\n",
       "    </tr>\n",
       "    <tr>\n",
       "      <th>min</th>\n",
       "      <td>4.000000</td>\n",
       "      <td>0.400000</td>\n",
       "      <td>0.100000</td>\n",
       "      <td>63.000000</td>\n",
       "      <td>10.000000</td>\n",
       "      <td>10.000000</td>\n",
       "      <td>2.700000</td>\n",
       "      <td>0.900000</td>\n",
       "      <td>0.300000</td>\n",
       "      <td>1.000000</td>\n",
       "    </tr>\n",
       "    <tr>\n",
       "      <th>25%</th>\n",
       "      <td>33.000000</td>\n",
       "      <td>0.800000</td>\n",
       "      <td>0.200000</td>\n",
       "      <td>175.500000</td>\n",
       "      <td>23.000000</td>\n",
       "      <td>25.000000</td>\n",
       "      <td>5.800000</td>\n",
       "      <td>2.600000</td>\n",
       "      <td>0.700000</td>\n",
       "      <td>1.000000</td>\n",
       "    </tr>\n",
       "    <tr>\n",
       "      <th>50%</th>\n",
       "      <td>45.000000</td>\n",
       "      <td>1.000000</td>\n",
       "      <td>0.300000</td>\n",
       "      <td>208.000000</td>\n",
       "      <td>35.000000</td>\n",
       "      <td>42.000000</td>\n",
       "      <td>6.600000</td>\n",
       "      <td>3.100000</td>\n",
       "      <td>0.930000</td>\n",
       "      <td>1.000000</td>\n",
       "    </tr>\n",
       "    <tr>\n",
       "      <th>75%</th>\n",
       "      <td>58.000000</td>\n",
       "      <td>2.600000</td>\n",
       "      <td>1.300000</td>\n",
       "      <td>298.000000</td>\n",
       "      <td>60.500000</td>\n",
       "      <td>87.000000</td>\n",
       "      <td>7.200000</td>\n",
       "      <td>3.800000</td>\n",
       "      <td>1.100000</td>\n",
       "      <td>2.000000</td>\n",
       "    </tr>\n",
       "    <tr>\n",
       "      <th>max</th>\n",
       "      <td>90.000000</td>\n",
       "      <td>75.000000</td>\n",
       "      <td>19.700000</td>\n",
       "      <td>2110.000000</td>\n",
       "      <td>2000.000000</td>\n",
       "      <td>4929.000000</td>\n",
       "      <td>9.600000</td>\n",
       "      <td>5.500000</td>\n",
       "      <td>2.800000</td>\n",
       "      <td>2.000000</td>\n",
       "    </tr>\n",
       "  </tbody>\n",
       "</table>\n",
       "</div>"
      ],
      "text/plain": [
       "              Age  Total_Bilirubin  Direct_Bilirubin  Alkaline_Phosphotase  \\\n",
       "count  583.000000       583.000000        583.000000            583.000000   \n",
       "mean    44.746141         3.298799          1.486106            290.576329   \n",
       "std     16.189833         6.209522          2.808498            242.937989   \n",
       "min      4.000000         0.400000          0.100000             63.000000   \n",
       "25%     33.000000         0.800000          0.200000            175.500000   \n",
       "50%     45.000000         1.000000          0.300000            208.000000   \n",
       "75%     58.000000         2.600000          1.300000            298.000000   \n",
       "max     90.000000        75.000000         19.700000           2110.000000   \n",
       "\n",
       "       Alamine_Aminotransferase  Aspartate_Aminotransferase  Total_Protiens  \\\n",
       "count                583.000000                  583.000000      583.000000   \n",
       "mean                  80.713551                  109.910806        6.483190   \n",
       "std                  182.620356                  288.918529        1.085451   \n",
       "min                   10.000000                   10.000000        2.700000   \n",
       "25%                   23.000000                   25.000000        5.800000   \n",
       "50%                   35.000000                   42.000000        6.600000   \n",
       "75%                   60.500000                   87.000000        7.200000   \n",
       "max                 2000.000000                 4929.000000        9.600000   \n",
       "\n",
       "          Albumin  Albumin_and_Globulin_Ratio     Dataset  \n",
       "count  583.000000                  579.000000  583.000000  \n",
       "mean     3.141852                    0.947064    1.286449  \n",
       "std      0.795519                    0.319592    0.452490  \n",
       "min      0.900000                    0.300000    1.000000  \n",
       "25%      2.600000                    0.700000    1.000000  \n",
       "50%      3.100000                    0.930000    1.000000  \n",
       "75%      3.800000                    1.100000    2.000000  \n",
       "max      5.500000                    2.800000    2.000000  "
      ]
     },
     "execution_count": 4,
     "metadata": {},
     "output_type": "execute_result"
    }
   ],
   "source": [
    "dataset.describe()"
   ]
  },
  {
   "cell_type": "code",
   "execution_count": 5,
   "metadata": {
    "colab": {
     "base_uri": "https://localhost:8080/"
    },
    "id": "gHXmlAZIDNe3",
    "outputId": "1dbe9816-d9c8-4556-a7d1-77d2466cf5fd"
   },
   "outputs": [
    {
     "data": {
      "text/plain": [
       "(583, 11)"
      ]
     },
     "execution_count": 5,
     "metadata": {},
     "output_type": "execute_result"
    }
   ],
   "source": [
    "dataset.shape"
   ]
  },
  {
   "cell_type": "code",
   "execution_count": 6,
   "metadata": {
    "colab": {
     "base_uri": "https://localhost:8080/"
    },
    "id": "3TlZSvwODTfM",
    "outputId": "268f87ab-6876-4908-d596-0b6487f71db2"
   },
   "outputs": [
    {
     "data": {
      "text/plain": [
       "Index(['Age', 'Gender', 'Total_Bilirubin', 'Direct_Bilirubin',\n",
       "       'Alkaline_Phosphotase', 'Alamine_Aminotransferase',\n",
       "       'Aspartate_Aminotransferase', 'Total_Protiens', 'Albumin',\n",
       "       'Albumin_and_Globulin_Ratio', 'Dataset'],\n",
       "      dtype='object')"
      ]
     },
     "execution_count": 6,
     "metadata": {},
     "output_type": "execute_result"
    }
   ],
   "source": [
    "dataset.columns"
   ]
  },
  {
   "cell_type": "markdown",
   "metadata": {
    "id": "0aH4Q8M8Hhk7"
   },
   "source": [
    "#Data Cleaning\n",
    "\n",
    "Checking Duplicate tuples, if any will be removed"
   ]
  },
  {
   "cell_type": "code",
   "execution_count": 7,
   "metadata": {
    "colab": {
     "base_uri": "https://localhost:8080/"
    },
    "id": "t1-8OgWlHpKJ",
    "outputId": "e1d6325f-6fc6-49c9-fea2-bbd3e126d0b1"
   },
   "outputs": [
    {
     "data": {
      "text/plain": [
       "0      False\n",
       "1      False\n",
       "2      False\n",
       "3      False\n",
       "4      False\n",
       "       ...  \n",
       "578    False\n",
       "579    False\n",
       "580    False\n",
       "581    False\n",
       "582    False\n",
       "Length: 583, dtype: bool"
      ]
     },
     "execution_count": 7,
     "metadata": {},
     "output_type": "execute_result"
    }
   ],
   "source": [
    "dataset.duplicated()"
   ]
  },
  {
   "cell_type": "code",
   "execution_count": 8,
   "metadata": {
    "colab": {
     "base_uri": "https://localhost:8080/"
    },
    "id": "hIOIhGBIH1tg",
    "outputId": "f6f7990e-7fba-4859-afff-2acc71792dbb"
   },
   "outputs": [
    {
     "data": {
      "text/plain": [
       "13"
      ]
     },
     "execution_count": 8,
     "metadata": {},
     "output_type": "execute_result"
    }
   ],
   "source": [
    "dataset.duplicated().sum()"
   ]
  },
  {
   "cell_type": "code",
   "execution_count": 9,
   "metadata": {
    "colab": {
     "base_uri": "https://localhost:8080/"
    },
    "id": "gigPeVPuH6PB",
    "outputId": "a29f7e76-4fbd-4e37-e3cc-658faeb6f6aa"
   },
   "outputs": [
    {
     "name": "stdout",
     "output_type": "stream",
     "text": [
      "(570, 11)\n"
     ]
    }
   ],
   "source": [
    "dataset = dataset.drop_duplicates()\n",
    "print( dataset.shape )"
   ]
  },
  {
   "cell_type": "markdown",
   "metadata": {
    "id": "TdWeSn-oDj7v"
   },
   "source": [
    "#checking Missing Values"
   ]
  },
  {
   "cell_type": "code",
   "execution_count": 10,
   "metadata": {
    "colab": {
     "base_uri": "https://localhost:8080/"
    },
    "id": "9ltQbp6oDVoz",
    "outputId": "722a9499-80c9-4261-c3e8-fbc63b8d4f64"
   },
   "outputs": [
    {
     "data": {
      "text/plain": [
       "Age                           0\n",
       "Gender                        0\n",
       "Total_Bilirubin               0\n",
       "Direct_Bilirubin              0\n",
       "Alkaline_Phosphotase          0\n",
       "Alamine_Aminotransferase      0\n",
       "Aspartate_Aminotransferase    0\n",
       "Total_Protiens                0\n",
       "Albumin                       0\n",
       "Albumin_and_Globulin_Ratio    4\n",
       "Dataset                       0\n",
       "dtype: int64"
      ]
     },
     "execution_count": 10,
     "metadata": {},
     "output_type": "execute_result"
    }
   ],
   "source": [
    "dataset.isna().sum()"
   ]
  },
  {
   "cell_type": "code",
   "execution_count": 11,
   "metadata": {
    "colab": {
     "base_uri": "https://localhost:8080/",
     "height": 298
    },
    "id": "yoRQ-OV_IW_B",
    "outputId": "1725babb-027d-4a70-8ef9-20840744b2eb"
   },
   "outputs": [
    {
     "data": {
      "text/plain": [
       "<AxesSubplot:xlabel='Albumin_and_Globulin_Ratio'>"
      ]
     },
     "execution_count": 11,
     "metadata": {},
     "output_type": "execute_result"
    },
    {
     "data": {
      "image/png": "[encoded data removed]",
      "text/plain": [
       "<Figure size 640x480 with 1 Axes>"
      ]
     },
     "metadata": {},
     "output_type": "display_data"
    }
   ],
   "source": [
    "sns.boxplot(data = dataset, x= 'Albumin_and_Globulin_Ratio' )"
   ]
  },
  {
   "cell_type": "markdown",
   "metadata": {
    "id": "1SP0w77HJTdJ"
   },
   "source": [
    "Q1 = 0.700 \n",
    "\n",
    "Q3 = 1.1000\n",
    "\n",
    "IQR = 0.4\n",
    "\n",
    "1.5 * 0.4 = 0.6\n",
    "\n",
    "Q1 - 0.6 = 0.1\n",
    "\n",
    "Q3 + 0.6 = 1.7\n",
    "\n",
    "Anything away between 0.1 and 1.7 is considered to be an Outlier\n",
    "\n",
    "\n",
    "\n"
   ]
  },
  {
   "cell_type": "code",
   "execution_count": 12,
   "metadata": {
    "colab": {
     "base_uri": "https://localhost:8080/"
    },
    "id": "P-uVsamqKuP2",
    "outputId": "6a352bf0-7763-43fd-82d1-33b92db4013b"
   },
   "outputs": [
    {
     "data": {
      "text/plain": [
       "0    1.0\n",
       "Name: Albumin_and_Globulin_Ratio, dtype: float64"
      ]
     },
     "execution_count": 12,
     "metadata": {},
     "output_type": "execute_result"
    }
   ],
   "source": [
    "dataset['Albumin_and_Globulin_Ratio'].mode()"
   ]
  },
  {
   "cell_type": "code",
   "execution_count": 13,
   "metadata": {
    "colab": {
     "base_uri": "https://localhost:8080/"
    },
    "id": "INE3Ew_OKyov",
    "outputId": "41b66858-79f4-41a7-a1b6-0f527a59eb41"
   },
   "outputs": [
    {
     "data": {
      "text/plain": [
       "0.95"
      ]
     },
     "execution_count": 13,
     "metadata": {},
     "output_type": "execute_result"
    }
   ],
   "source": [
    "dataset['Albumin_and_Globulin_Ratio'].median()"
   ]
  },
  {
   "cell_type": "code",
   "execution_count": 14,
   "metadata": {
    "colab": {
     "base_uri": "https://localhost:8080/"
    },
    "id": "8zWaENAkK2h3",
    "outputId": "96f73ef4-790c-48a8-d5d8-5fdab45e179c"
   },
   "outputs": [
    {
     "data": {
      "text/plain": [
       "0.9480035335689051"
      ]
     },
     "execution_count": 14,
     "metadata": {},
     "output_type": "execute_result"
    }
   ],
   "source": [
    "dataset['Albumin_and_Globulin_Ratio'].mean()"
   ]
  },
  {
   "cell_type": "code",
   "execution_count": 15,
   "metadata": {
    "id": "4lofF4kvKS7u"
   },
   "outputs": [],
   "source": [
    "dataset['Albumin_and_Globulin_Ratio'] = dataset['Albumin_and_Globulin_Ratio'].fillna(dataset['Albumin_and_Globulin_Ratio'].median())"
   ]
  },
  {
   "cell_type": "code",
   "execution_count": 16,
   "metadata": {
    "colab": {
     "base_uri": "https://localhost:8080/"
    },
    "id": "5Nte_eX9LXdK",
    "outputId": "b5c03e42-485d-4cef-8253-193012059108"
   },
   "outputs": [
    {
     "data": {
      "text/plain": [
       "Age                           0\n",
       "Gender                        0\n",
       "Total_Bilirubin               0\n",
       "Direct_Bilirubin              0\n",
       "Alkaline_Phosphotase          0\n",
       "Alamine_Aminotransferase      0\n",
       "Aspartate_Aminotransferase    0\n",
       "Total_Protiens                0\n",
       "Albumin                       0\n",
       "Albumin_and_Globulin_Ratio    0\n",
       "Dataset                       0\n",
       "dtype: int64"
      ]
     },
     "execution_count": 16,
     "metadata": {},
     "output_type": "execute_result"
    }
   ],
   "source": [
    "dataset.isna().sum()"
   ]
  },
  {
   "cell_type": "markdown",
   "metadata": {
    "id": "NTA001aKEDmg"
   },
   "source": [
    "#Male Vs Female"
   ]
  },
  {
   "cell_type": "code",
   "execution_count": 17,
   "metadata": {
    "colab": {
     "base_uri": "https://localhost:8080/",
     "height": 0
    },
    "id": "O-cYPWIfEHX3",
    "outputId": "6f4bc84d-fe88-4958-bc77-eba1a97454fd"
   },
   "outputs": [
    {
     "data": {
      "text/plain": [
       "<AxesSubplot:xlabel='Gender', ylabel='count'>"
      ]
     },
     "execution_count": 17,
     "metadata": {},
     "output_type": "execute_result"
    },
    {
     "data": {
      "image/png": "[encoded data removed]",
      "text/plain": [
       "<Figure size 640x480 with 1 Axes>"
      ]
     },
     "metadata": {},
     "output_type": "display_data"
    }
   ],
   "source": [
    "import seaborn as sns\n",
    "sns.countplot(data = dataset, x='Gender', label='count')"
   ]
  },
  {
   "cell_type": "code",
   "execution_count": 18,
   "metadata": {
    "colab": {
     "base_uri": "https://localhost:8080/"
    },
    "id": "QKm2N0laEfy7",
    "outputId": "56e74188-d568-4279-ed36-bf72b30a1b4c"
   },
   "outputs": [
    {
     "name": "stdout",
     "output_type": "stream",
     "text": [
      "Number of patients that are male:  430\n",
      "Number of patients that are female:  140\n"
     ]
    }
   ],
   "source": [
    "Male, Female = dataset['Gender'].value_counts()\n",
    "print('Number of patients that are male: ',Male)\n",
    "print('Number of patients that are female: ',Female)\n"
   ]
  },
  {
   "cell_type": "markdown",
   "metadata": {
    "id": "ZLiz3VOwDsOL"
   },
   "source": [
    "#Encoding the Gender Column\n",
    "\n",
    "Label Male as 1 and Female as 0"
   ]
  },
  {
   "cell_type": "code",
   "execution_count": 19,
   "metadata": {
    "id": "bshETKBrDrJO"
   },
   "outputs": [],
   "source": [
    "def partition(x):\n",
    "    if x == 'Male':\n",
    "        return 1\n",
    "    return 0\n",
    "\n",
    "dataset['Gender'] = dataset['Gender'].map(partition)"
   ]
  },
  {
   "cell_type": "code",
   "execution_count": 20,
   "metadata": {
    "colab": {
     "base_uri": "https://localhost:8080/",
     "height": 0
    },
    "id": "Ek8yrAk3FVVn",
    "outputId": "de39a1b1-bf40-4a6f-9c73-b79d4863ca64"
   },
   "outputs": [
    {
     "data": {
      "text/html": [
       "<div>\n",
       "<style scoped>\n",
       "    .dataframe tbody tr th:only-of-type {\n",
       "        vertical-align: middle;\n",
       "    }\n",
       "\n",
       "    .dataframe tbody tr th {\n",
       "        vertical-align: top;\n",
       "    }\n",
       "\n",
       "    .dataframe thead th {\n",
       "        text-align: right;\n",
       "    }\n",
       "</style>\n",
       "<table border=\"1\" class=\"dataframe\">\n",
       "  <thead>\n",
       "    <tr style=\"text-align: right;\">\n",
       "      <th></th>\n",
       "      <th>Age</th>\n",
       "      <th>Gender</th>\n",
       "      <th>Total_Bilirubin</th>\n",
       "      <th>Direct_Bilirubin</th>\n",
       "      <th>Alkaline_Phosphotase</th>\n",
       "      <th>Alamine_Aminotransferase</th>\n",
       "      <th>Aspartate_Aminotransferase</th>\n",
       "      <th>Total_Protiens</th>\n",
       "      <th>Albumin</th>\n",
       "      <th>Albumin_and_Globulin_Ratio</th>\n",
       "      <th>Dataset</th>\n",
       "    </tr>\n",
       "  </thead>\n",
       "  <tbody>\n",
       "    <tr>\n",
       "      <th>0</th>\n",
       "      <td>65</td>\n",
       "      <td>0</td>\n",
       "      <td>0.7</td>\n",
       "      <td>0.1</td>\n",
       "      <td>187</td>\n",
       "      <td>16</td>\n",
       "      <td>18</td>\n",
       "      <td>6.8</td>\n",
       "      <td>3.3</td>\n",
       "      <td>0.90</td>\n",
       "      <td>1</td>\n",
       "    </tr>\n",
       "    <tr>\n",
       "      <th>1</th>\n",
       "      <td>62</td>\n",
       "      <td>1</td>\n",
       "      <td>10.9</td>\n",
       "      <td>5.5</td>\n",
       "      <td>699</td>\n",
       "      <td>64</td>\n",
       "      <td>100</td>\n",
       "      <td>7.5</td>\n",
       "      <td>3.2</td>\n",
       "      <td>0.74</td>\n",
       "      <td>1</td>\n",
       "    </tr>\n",
       "    <tr>\n",
       "      <th>2</th>\n",
       "      <td>62</td>\n",
       "      <td>1</td>\n",
       "      <td>7.3</td>\n",
       "      <td>4.1</td>\n",
       "      <td>490</td>\n",
       "      <td>60</td>\n",
       "      <td>68</td>\n",
       "      <td>7.0</td>\n",
       "      <td>3.3</td>\n",
       "      <td>0.89</td>\n",
       "      <td>1</td>\n",
       "    </tr>\n",
       "    <tr>\n",
       "      <th>3</th>\n",
       "      <td>58</td>\n",
       "      <td>1</td>\n",
       "      <td>1.0</td>\n",
       "      <td>0.4</td>\n",
       "      <td>182</td>\n",
       "      <td>14</td>\n",
       "      <td>20</td>\n",
       "      <td>6.8</td>\n",
       "      <td>3.4</td>\n",
       "      <td>1.00</td>\n",
       "      <td>1</td>\n",
       "    </tr>\n",
       "    <tr>\n",
       "      <th>4</th>\n",
       "      <td>72</td>\n",
       "      <td>1</td>\n",
       "      <td>3.9</td>\n",
       "      <td>2.0</td>\n",
       "      <td>195</td>\n",
       "      <td>27</td>\n",
       "      <td>59</td>\n",
       "      <td>7.3</td>\n",
       "      <td>2.4</td>\n",
       "      <td>0.40</td>\n",
       "      <td>1</td>\n",
       "    </tr>\n",
       "    <tr>\n",
       "      <th>...</th>\n",
       "      <td>...</td>\n",
       "      <td>...</td>\n",
       "      <td>...</td>\n",
       "      <td>...</td>\n",
       "      <td>...</td>\n",
       "      <td>...</td>\n",
       "      <td>...</td>\n",
       "      <td>...</td>\n",
       "      <td>...</td>\n",
       "      <td>...</td>\n",
       "      <td>...</td>\n",
       "    </tr>\n",
       "    <tr>\n",
       "      <th>578</th>\n",
       "      <td>60</td>\n",
       "      <td>1</td>\n",
       "      <td>0.5</td>\n",
       "      <td>0.1</td>\n",
       "      <td>500</td>\n",
       "      <td>20</td>\n",
       "      <td>34</td>\n",
       "      <td>5.9</td>\n",
       "      <td>1.6</td>\n",
       "      <td>0.37</td>\n",
       "      <td>2</td>\n",
       "    </tr>\n",
       "    <tr>\n",
       "      <th>579</th>\n",
       "      <td>40</td>\n",
       "      <td>1</td>\n",
       "      <td>0.6</td>\n",
       "      <td>0.1</td>\n",
       "      <td>98</td>\n",
       "      <td>35</td>\n",
       "      <td>31</td>\n",
       "      <td>6.0</td>\n",
       "      <td>3.2</td>\n",
       "      <td>1.10</td>\n",
       "      <td>1</td>\n",
       "    </tr>\n",
       "    <tr>\n",
       "      <th>580</th>\n",
       "      <td>52</td>\n",
       "      <td>1</td>\n",
       "      <td>0.8</td>\n",
       "      <td>0.2</td>\n",
       "      <td>245</td>\n",
       "      <td>48</td>\n",
       "      <td>49</td>\n",
       "      <td>6.4</td>\n",
       "      <td>3.2</td>\n",
       "      <td>1.00</td>\n",
       "      <td>1</td>\n",
       "    </tr>\n",
       "    <tr>\n",
       "      <th>581</th>\n",
       "      <td>31</td>\n",
       "      <td>1</td>\n",
       "      <td>1.3</td>\n",
       "      <td>0.5</td>\n",
       "      <td>184</td>\n",
       "      <td>29</td>\n",
       "      <td>32</td>\n",
       "      <td>6.8</td>\n",
       "      <td>3.4</td>\n",
       "      <td>1.00</td>\n",
       "      <td>1</td>\n",
       "    </tr>\n",
       "    <tr>\n",
       "      <th>582</th>\n",
       "      <td>38</td>\n",
       "      <td>1</td>\n",
       "      <td>1.0</td>\n",
       "      <td>0.3</td>\n",
       "      <td>216</td>\n",
       "      <td>21</td>\n",
       "      <td>24</td>\n",
       "      <td>7.3</td>\n",
       "      <td>4.4</td>\n",
       "      <td>1.50</td>\n",
       "      <td>2</td>\n",
       "    </tr>\n",
       "  </tbody>\n",
       "</table>\n",
       "<p>570 rows × 11 columns</p>\n",
       "</div>"
      ],
      "text/plain": [
       "     Age  Gender  Total_Bilirubin  Direct_Bilirubin  Alkaline_Phosphotase  \\\n",
       "0     65       0              0.7               0.1                   187   \n",
       "1     62       1             10.9               5.5                   699   \n",
       "2     62       1              7.3               4.1                   490   \n",
       "3     58       1              1.0               0.4                   182   \n",
       "4     72       1              3.9               2.0                   195   \n",
       "..   ...     ...              ...               ...                   ...   \n",
       "578   60       1              0.5               0.1                   500   \n",
       "579   40       1              0.6               0.1                    98   \n",
       "580   52       1              0.8               0.2                   245   \n",
       "581   31       1              1.3               0.5                   184   \n",
       "582   38       1              1.0               0.3                   216   \n",
       "\n",
       "     Alamine_Aminotransferase  Aspartate_Aminotransferase  Total_Protiens  \\\n",
       "0                          16                          18             6.8   \n",
       "1                          64                         100             7.5   \n",
       "2                          60                          68             7.0   \n",
       "3                          14                          20             6.8   \n",
       "4                          27                          59             7.3   \n",
       "..                        ...                         ...             ...   \n",
       "578                        20                          34             5.9   \n",
       "579                        35                          31             6.0   \n",
       "580                        48                          49             6.4   \n",
       "581                        29                          32             6.8   \n",
       "582                        21                          24             7.3   \n",
       "\n",
       "     Albumin  Albumin_and_Globulin_Ratio  Dataset  \n",
       "0        3.3                        0.90        1  \n",
       "1        3.2                        0.74        1  \n",
       "2        3.3                        0.89        1  \n",
       "3        3.4                        1.00        1  \n",
       "4        2.4                        0.40        1  \n",
       "..       ...                         ...      ...  \n",
       "578      1.6                        0.37        2  \n",
       "579      3.2                        1.10        1  \n",
       "580      3.2                        1.00        1  \n",
       "581      3.4                        1.00        1  \n",
       "582      4.4                        1.50        2  \n",
       "\n",
       "[570 rows x 11 columns]"
      ]
     },
     "execution_count": 20,
     "metadata": {},
     "output_type": "execute_result"
    }
   ],
   "source": [
    "dataset"
   ]
  },
  {
   "cell_type": "markdown",
   "metadata": {
    "id": "sBT8uahPGA1i"
   },
   "source": [
    "#Converting Output Column 'Dataset' to 0's and 1's\n",
    "\n",
    "Dataset i.e output value has '1' for liver disease and '2' for no liver disease so let's make it 0 for no disease to make it convinient"
   ]
  },
  {
   "cell_type": "code",
   "execution_count": 21,
   "metadata": {
    "id": "tAZ4RaDQF25t"
   },
   "outputs": [],
   "source": [
    "def partition(x):\n",
    "    if x == 2:\n",
    "        return 0\n",
    "    return 1\n",
    "\n",
    "dataset['Dataset'] = dataset['Dataset'].map(partition)"
   ]
  },
  {
   "cell_type": "code",
   "execution_count": 22,
   "metadata": {
    "colab": {
     "base_uri": "https://localhost:8080/"
    },
    "id": "OyY5aElMGX5I",
    "outputId": "0bc9aa4c-5bee-4a00-9a42-d4478535981a"
   },
   "outputs": [
    {
     "data": {
      "text/plain": [
       "0      1\n",
       "1      1\n",
       "2      1\n",
       "3      1\n",
       "4      1\n",
       "      ..\n",
       "578    0\n",
       "579    1\n",
       "580    1\n",
       "581    1\n",
       "582    0\n",
       "Name: Dataset, Length: 570, dtype: int64"
      ]
     },
     "execution_count": 22,
     "metadata": {},
     "output_type": "execute_result"
    }
   ],
   "source": [
    "dataset['Dataset']"
   ]
  },
  {
   "cell_type": "markdown",
   "metadata": {
    "id": "6wTuKyMVL53k"
   },
   "source": [
    "#Correlation Matrix"
   ]
  },
  {
   "cell_type": "code",
   "execution_count": 23,
   "metadata": {
    "colab": {
     "base_uri": "https://localhost:8080/",
     "height": 0
    },
    "id": "f8AkvxLDL_nq",
    "outputId": "5d2f4cc5-497c-4bcb-fddc-848b70179455"
   },
   "outputs": [
    {
     "data": {
      "text/plain": [
       "<AxesSubplot:>"
      ]
     },
     "execution_count": 23,
     "metadata": {},
     "output_type": "execute_result"
    },
    {
     "data": {
      "image/png": "[encoded data removed]",
      "text/plain": [
       "<Figure size 1000x1000 with 2 Axes>"
      ]
     },
     "metadata": {},
     "output_type": "display_data"
    }
   ],
   "source": [
    "plt.figure(figsize=(10,10))\n",
    "sns.heatmap(dataset.corr())"
   ]
  },
  {
   "cell_type": "markdown",
   "metadata": {
    "id": "mOfkk1qxMHhs"
   },
   "source": [
    "#Data Preparation"
   ]
  },
  {
   "cell_type": "code",
   "execution_count": 24,
   "metadata": {
    "id": "CHWt2R9TMVgI"
   },
   "outputs": [],
   "source": [
    "X = dataset.iloc[: , :-1].values\n",
    "y = dataset.iloc[: , -1].values"
   ]
  },
  {
   "cell_type": "code",
   "execution_count": 25,
   "metadata": {
    "id": "II8x83eXMFNw"
   },
   "outputs": [],
   "source": [
    "#splitting data in to training data and test data \n",
    "\n",
    "from sklearn.model_selection import train_test_split\n",
    "x_train, x_test, y_train, y_test = train_test_split(X , y , test_size = 0.25, random_state = 42)"
   ]
  },
  {
   "cell_type": "code",
   "execution_count": 26,
   "metadata": {
    "id": "YlmVRY2pM3Xj"
   },
   "outputs": [],
   "source": [
    "#feature Scaling\n",
    "from sklearn.preprocessing import StandardScaler\n",
    "sc = StandardScaler()\n",
    "x_train = sc.fit_transform(x_train)\n",
    "x_test = sc.transform(x_test)"
   ]
  },
  {
   "cell_type": "markdown",
   "metadata": {
    "id": "33HEerGRNcEE"
   },
   "source": [
    "#Machine Learning Models"
   ]
  },
  {
   "cell_type": "markdown",
   "metadata": {
    "id": "TW8maKiaNeK8"
   },
   "source": [
    "**Logistic Regression**"
   ]
  },
  {
   "cell_type": "code",
   "execution_count": 27,
   "metadata": {
    "colab": {
     "base_uri": "https://localhost:8080/"
    },
    "id": "EeyNlv1XNg5s",
    "outputId": "050bcc3c-c983-4f65-fde8-82ec1d3259e6"
   },
   "outputs": [
    {
     "data": {
      "text/plain": [
       "LogisticRegression(random_state=0)"
      ]
     },
     "execution_count": 27,
     "metadata": {},
     "output_type": "execute_result"
    }
   ],
   "source": [
    "from sklearn.linear_model import LogisticRegression\n",
    "log_classifier = LogisticRegression(random_state = 0)\n",
    "log_classifier.fit(x_train, y_train)"
   ]
  },
  {
   "cell_type": "code",
   "execution_count": 28,
   "metadata": {
    "id": "Roe33nL8OApv"
   },
   "outputs": [],
   "source": [
    "# Predicting the output \n",
    "log_y_pred = log_classifier.predict(x_test)"
   ]
  },
  {
   "cell_type": "code",
   "execution_count": 29,
   "metadata": {
    "colab": {
     "base_uri": "https://localhost:8080/",
     "height": 0
    },
    "id": "iuEBz3ntOKlk",
    "outputId": "8e4230a7-c7f8-4fe3-852e-d620b5b46a09"
   },
   "outputs": [
    {
     "data": {
      "text/plain": [
       "<AxesSubplot:>"
      ]
     },
     "execution_count": 29,
     "metadata": {},
     "output_type": "execute_result"
    },
    {
     "data": {
      "image/png": "[encoded data removed]",
      "text/plain": [
       "<Figure size 640x480 with 2 Axes>"
      ]
     },
     "metadata": {},
     "output_type": "display_data"
    }
   ],
   "source": [
    "from sklearn.metrics import confusion_matrix\n",
    "log_cm = confusion_matrix(y_test, log_y_pred)\n",
    "sns.heatmap(log_cm , annot=True)"
   ]
  },
  {
   "cell_type": "markdown",
   "metadata": {
    "id": "Q-MelFF7PAcq"
   },
   "source": [
    "![image.png](data:image/png;base64,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)"
   ]
  },
  {
   "cell_type": "code",
   "execution_count": 30,
   "metadata": {
    "colab": {
     "base_uri": "https://localhost:8080/"
    },
    "id": "GgiaVfz1Poav",
    "outputId": "b6260307-7f87-4613-abe9-fffe6c3563fa"
   },
   "outputs": [
    {
     "name": "stdout",
     "output_type": "stream",
     "text": [
      "0.7272727272727273\n",
      "0.753968253968254\n"
     ]
    }
   ],
   "source": [
    "from sklearn.metrics import accuracy_score, precision_score\n",
    "print(accuracy_score(y_test,log_y_pred))\n",
    "print(precision_score(y_test , log_y_pred))"
   ]
  },
  {
   "cell_type": "markdown",
   "metadata": {
    "id": "RLDVGpYEQMkB"
   },
   "source": [
    "**K Nearest Neighbors Algorithm**"
   ]
  },
  {
   "cell_type": "code",
   "execution_count": 31,
   "metadata": {
    "colab": {
     "base_uri": "https://localhost:8080/"
    },
    "id": "Hgu4_8kiQomD",
    "outputId": "dd0b7b7e-e990-47a7-bbd9-067dbb5cb025"
   },
   "outputs": [
    {
     "data": {
      "text/plain": [
       "(427, 10)"
      ]
     },
     "execution_count": 31,
     "metadata": {},
     "output_type": "execute_result"
    }
   ],
   "source": [
    "x_train.shape"
   ]
  },
  {
   "cell_type": "code",
   "execution_count": 32,
   "metadata": {
    "colab": {
     "base_uri": "https://localhost:8080/"
    },
    "id": "Upws6m3vQRwJ",
    "outputId": "3e8c3e4d-83c5-41c0-e819-fcaec5f29e6d"
   },
   "outputs": [
    {
     "data": {
      "text/plain": [
       "KNeighborsClassifier(n_neighbors=21)"
      ]
     },
     "execution_count": 32,
     "metadata": {},
     "output_type": "execute_result"
    }
   ],
   "source": [
    "from sklearn.neighbors import KNeighborsClassifier \n",
    "knn_classifier = KNeighborsClassifier(n_neighbors =21, metric = 'minkowski') \n",
    "knn_classifier.fit(x_train, y_train)"
   ]
  },
  {
   "cell_type": "code",
   "execution_count": 33,
   "metadata": {
    "id": "sH6PoakOQ5SP"
   },
   "outputs": [
    {
     "name": "stderr",
     "output_type": "stream",
     "text": [
      "C:\\Users\\91939\\Desktop\\anaconda\\lib\\site-packages\\sklearn\\neighbors\\_classification.py:228: FutureWarning: Unlike other reduction functions (e.g. `skew`, `kurtosis`), the default behavior of `mode` typically preserves the axis it acts along. In SciPy 1.11.0, this behavior will change: the default value of `keepdims` will become False, the `axis` over which the statistic is taken will be eliminated, and the value None will no longer be accepted. Set `keepdims` to True or False to avoid this warning.\n",
      "  mode, _ = stats.mode(_y[neigh_ind, k], axis=1)\n"
     ]
    }
   ],
   "source": [
    "knn_y_pred = knn_classifier.predict(x_test)"
   ]
  },
  {
   "cell_type": "code",
   "execution_count": 34,
   "metadata": {
    "colab": {
     "base_uri": "https://localhost:8080/",
     "height": 0
    },
    "id": "-cMLxeWbRAiy",
    "outputId": "062d329b-63b8-473f-be1f-a50960b2a366"
   },
   "outputs": [
    {
     "data": {
      "text/plain": [
       "<AxesSubplot:>"
      ]
     },
     "execution_count": 34,
     "metadata": {},
     "output_type": "execute_result"
    },
    {
     "data": {
      "image/png": "[encoded data removed]",
      "text/plain": [
       "<Figure size 640x480 with 2 Axes>"
      ]
     },
     "metadata": {},
     "output_type": "display_data"
    }
   ],
   "source": [
    "from sklearn.metrics import confusion_matrix\n",
    "knn_cm = confusion_matrix(y_test, knn_y_pred)\n",
    "sns.heatmap(knn_cm , annot=True)"
   ]
  },
  {
   "cell_type": "code",
   "execution_count": 35,
   "metadata": {
    "colab": {
     "base_uri": "https://localhost:8080/"
    },
    "id": "RmMydm5pRJIl",
    "outputId": "895e13ab-1457-4471-c5b4-ab846b2bbc5f"
   },
   "outputs": [
    {
     "name": "stdout",
     "output_type": "stream",
     "text": [
      "0.6853146853146853\n",
      "0.7377049180327869\n"
     ]
    }
   ],
   "source": [
    "from sklearn.metrics import accuracy_score, precision_score\n",
    "print(accuracy_score(y_test,knn_y_pred))\n",
    "print(precision_score(y_test , knn_y_pred))"
   ]
  },
  {
   "cell_type": "markdown",
   "metadata": {
    "id": "8dlF8irjRdYv"
   },
   "source": [
    "**SVM**"
   ]
  },
  {
   "cell_type": "code",
   "execution_count": 36,
   "metadata": {
    "colab": {
     "base_uri": "https://localhost:8080/"
    },
    "id": "D5b0G1CaRc9I",
    "outputId": "f326bc1e-806c-4e86-b5db-0d29d8fecfc5"
   },
   "outputs": [
    {
     "data": {
      "text/plain": [
       "SVC(random_state=0)"
      ]
     },
     "execution_count": 36,
     "metadata": {},
     "output_type": "execute_result"
    }
   ],
   "source": [
    "from sklearn.svm import SVC\n",
    "svm_classifier = SVC(kernel = 'rbf', random_state = 0)\n",
    "svm_classifier.fit(x_train, y_train)"
   ]
  },
  {
   "cell_type": "code",
   "execution_count": 37,
   "metadata": {
    "id": "xUa8oLJDSes6"
   },
   "outputs": [],
   "source": [
    "svm_y_pred = svm_classifier.predict(x_test)"
   ]
  },
  {
   "cell_type": "code",
   "execution_count": 38,
   "metadata": {
    "colab": {
     "base_uri": "https://localhost:8080/",
     "height": 0
    },
    "id": "_KUr6OisSm_8",
    "outputId": "2035dfe1-5da8-483a-fe07-e306d4ed59a9"
   },
   "outputs": [
    {
     "data": {
      "text/plain": [
       "<AxesSubplot:>"
      ]
     },
     "execution_count": 38,
     "metadata": {},
     "output_type": "execute_result"
    },
    {
     "data": {
      "image/png": "[encoded data removed]",
      "text/plain": [
       "<Figure size 640x480 with 2 Axes>"
      ]
     },
     "metadata": {},
     "output_type": "display_data"
    }
   ],
   "source": [
    "from sklearn.metrics import confusion_matrix\n",
    "svm_cm = confusion_matrix(y_test, svm_y_pred)\n",
    "sns.heatmap(svm_cm , annot=True)"
   ]
  },
  {
   "cell_type": "code",
   "execution_count": 39,
   "metadata": {
    "colab": {
     "base_uri": "https://localhost:8080/"
    },
    "id": "Bv0eHjGWStPc",
    "outputId": "82deb674-6faf-4211-8bb9-919509f42468"
   },
   "outputs": [
    {
     "name": "stdout",
     "output_type": "stream",
     "text": [
      "0.7202797202797203\n",
      "0.723404255319149\n"
     ]
    }
   ],
   "source": [
    "from sklearn.metrics import accuracy_score, precision_score\n",
    "print(accuracy_score(y_test,svm_y_pred))\n",
    "print(precision_score(y_test , svm_y_pred))"
   ]
  },
  {
   "cell_type": "markdown",
   "metadata": {
    "id": "JXoTtNxvS1Pn"
   },
   "source": [
    "**Artificial Neural Network**"
   ]
  },
  {
   "cell_type": "code",
   "execution_count": 40,
   "metadata": {
    "id": "WFIJKEAMS0on"
   },
   "outputs": [],
   "source": [
    "import keras\n",
    "from keras.models import Sequential\n",
    "from keras.layers import Dense,  Dropout"
   ]
  },
  {
   "cell_type": "code",
   "execution_count": 41,
   "metadata": {
    "id": "X2qdA1Q7TXRC"
   },
   "outputs": [],
   "source": [
    "# Initialising the ANN\n",
    "classifier = Sequential()\n",
    "# Adding the input layer and the first hidden layer\n",
    "classifier.add(Dense(units = 400 , activation='relu' , input_dim=10))\n",
    "classifier.add(Dropout(rate=0.1))\n",
    "# Adding Second hidden layer\n",
    "classifier.add(Dense(units = 400 , activation='relu'))\n",
    "classifier.add(Dropout(rate=0.1))\n",
    "# Output layer\n",
    "classifier.add(Dense(units = 1 , activation='sigmoid'))"
   ]
  },
  {
   "cell_type": "code",
   "execution_count": 42,
   "metadata": {
    "id": "exe2_FHrUuF2"
   },
   "outputs": [],
   "source": [
    "classifier.compile(optimizer='adam' , loss='binary_crossentropy' , metrics=['accuracy'])"
   ]
  },
  {
   "cell_type": "code",
   "execution_count": 43,
   "metadata": {
    "colab": {
     "base_uri": "https://localhost:8080/"
    },
    "id": "YxEQ61r5U1JG",
    "outputId": "8a6dcb3a-3a97-4a54-9be3-a5a1f1534b78"
   },
   "outputs": [
    {
     "name": "stdout",
     "output_type": "stream",
     "text": [
      "Epoch 1/100\n",
      "14/14 [==============================] - 1s 6ms/step - loss: 0.5684 - accuracy: 0.7002\n",
      "Epoch 2/100\n",
      "14/14 [==============================] - 0s 7ms/step - loss: 0.5201 - accuracy: 0.7026\n",
      "Epoch 3/100\n",
      "14/14 [==============================] - 0s 6ms/step - loss: 0.5088 - accuracy: 0.7237\n",
      "Epoch 4/100\n",
      "14/14 [==============================] - 0s 6ms/step - loss: 0.4921 - accuracy: 0.7330\n",
      "Epoch 5/100\n",
      "14/14 [==============================] - 0s 7ms/step - loss: 0.4842 - accuracy: 0.7377\n",
      "Epoch 6/100\n",
      "14/14 [==============================] - 0s 7ms/step - loss: 0.4763 - accuracy: 0.7588\n",
      "Epoch 7/100\n",
      "14/14 [==============================] - 0s 6ms/step - loss: 0.4687 - accuracy: 0.7424\n",
      "Epoch 8/100\n",
      "14/14 [==============================] - 0s 7ms/step - loss: 0.4691 - accuracy: 0.7518\n",
      "Epoch 9/100\n",
      "14/14 [==============================] - 0s 7ms/step - loss: 0.4629 - accuracy: 0.7588\n",
      "Epoch 10/100\n",
      "14/14 [==============================] - 0s 6ms/step - loss: 0.4730 - accuracy: 0.7447\n",
      "Epoch 11/100\n",
      "14/14 [==============================] - 0s 7ms/step - loss: 0.4480 - accuracy: 0.7799\n",
      "Epoch 12/100\n",
      "14/14 [==============================] - 0s 7ms/step - loss: 0.4435 - accuracy: 0.7658\n",
      "Epoch 13/100\n",
      "14/14 [==============================] - 0s 6ms/step - loss: 0.4367 - accuracy: 0.7869\n",
      "Epoch 14/100\n",
      "14/14 [==============================] - 0s 7ms/step - loss: 0.4401 - accuracy: 0.7775\n",
      "Epoch 15/100\n",
      "14/14 [==============================] - 0s 7ms/step - loss: 0.4309 - accuracy: 0.7752\n",
      "Epoch 16/100\n",
      "14/14 [==============================] - 0s 7ms/step - loss: 0.4370 - accuracy: 0.7541\n",
      "Epoch 17/100\n",
      "14/14 [==============================] - 0s 7ms/step - loss: 0.4262 - accuracy: 0.7939\n",
      "Epoch 18/100\n",
      "14/14 [==============================] - 0s 7ms/step - loss: 0.4090 - accuracy: 0.8009\n",
      "Epoch 19/100\n",
      "14/14 [==============================] - 0s 7ms/step - loss: 0.4027 - accuracy: 0.8033\n",
      "Epoch 20/100\n",
      "14/14 [==============================] - 0s 7ms/step - loss: 0.4152 - accuracy: 0.7963\n",
      "Epoch 21/100\n",
      "14/14 [==============================] - 0s 7ms/step - loss: 0.3978 - accuracy: 0.7799\n",
      "Epoch 22/100\n",
      "14/14 [==============================] - 0s 7ms/step - loss: 0.4050 - accuracy: 0.7775\n",
      "Epoch 23/100\n",
      "14/14 [==============================] - 0s 7ms/step - loss: 0.3945 - accuracy: 0.8009\n",
      "Epoch 24/100\n",
      "14/14 [==============================] - 0s 7ms/step - loss: 0.3999 - accuracy: 0.7775\n",
      "Epoch 25/100\n",
      "14/14 [==============================] - 0s 7ms/step - loss: 0.3842 - accuracy: 0.8080\n",
      "Epoch 26/100\n",
      "14/14 [==============================] - 0s 7ms/step - loss: 0.3791 - accuracy: 0.8033\n",
      "Epoch 27/100\n",
      "14/14 [==============================] - 0s 7ms/step - loss: 0.3808 - accuracy: 0.8103\n",
      "Epoch 28/100\n",
      "14/14 [==============================] - 0s 7ms/step - loss: 0.3927 - accuracy: 0.7939\n",
      "Epoch 29/100\n",
      "14/14 [==============================] - 0s 7ms/step - loss: 0.3623 - accuracy: 0.8267\n",
      "Epoch 30/100\n",
      "14/14 [==============================] - 0s 7ms/step - loss: 0.3702 - accuracy: 0.8126\n",
      "Epoch 31/100\n",
      "14/14 [==============================] - 0s 6ms/step - loss: 0.3545 - accuracy: 0.8197\n",
      "Epoch 32/100\n",
      "14/14 [==============================] - 0s 7ms/step - loss: 0.3768 - accuracy: 0.8103\n",
      "Epoch 33/100\n",
      "14/14 [==============================] - 0s 7ms/step - loss: 0.3976 - accuracy: 0.7892\n",
      "Epoch 34/100\n",
      "14/14 [==============================] - 0s 7ms/step - loss: 0.3626 - accuracy: 0.8290\n",
      "Epoch 35/100\n",
      "14/14 [==============================] - 0s 7ms/step - loss: 0.3549 - accuracy: 0.8314\n",
      "Epoch 36/100\n",
      "14/14 [==============================] - 0s 7ms/step - loss: 0.3421 - accuracy: 0.8501\n",
      "Epoch 37/100\n",
      "14/14 [==============================] - 0s 7ms/step - loss: 0.3574 - accuracy: 0.8150\n",
      "Epoch 38/100\n",
      "14/14 [==============================] - 0s 7ms/step - loss: 0.3461 - accuracy: 0.8267\n",
      "Epoch 39/100\n",
      "14/14 [==============================] - 0s 7ms/step - loss: 0.3324 - accuracy: 0.8454\n",
      "Epoch 40/100\n",
      "14/14 [==============================] - 0s 7ms/step - loss: 0.3268 - accuracy: 0.8337\n",
      "Epoch 41/100\n",
      "14/14 [==============================] - 0s 6ms/step - loss: 0.3258 - accuracy: 0.8431\n",
      "Epoch 42/100\n",
      "14/14 [==============================] - 0s 7ms/step - loss: 0.3253 - accuracy: 0.8384\n",
      "Epoch 43/100\n",
      "14/14 [==============================] - 0s 7ms/step - loss: 0.3043 - accuracy: 0.8571\n",
      "Epoch 44/100\n",
      "14/14 [==============================] - 0s 7ms/step - loss: 0.3093 - accuracy: 0.8548\n",
      "Epoch 45/100\n",
      "14/14 [==============================] - 0s 7ms/step - loss: 0.3052 - accuracy: 0.8431\n",
      "Epoch 46/100\n",
      "14/14 [==============================] - 0s 7ms/step - loss: 0.2995 - accuracy: 0.8548\n",
      "Epoch 47/100\n",
      "14/14 [==============================] - 0s 6ms/step - loss: 0.3000 - accuracy: 0.8759\n",
      "Epoch 48/100\n",
      "14/14 [==============================] - 0s 6ms/step - loss: 0.3074 - accuracy: 0.8337\n",
      "Epoch 49/100\n",
      "14/14 [==============================] - 0s 6ms/step - loss: 0.3131 - accuracy: 0.8501\n",
      "Epoch 50/100\n",
      "14/14 [==============================] - 0s 7ms/step - loss: 0.3169 - accuracy: 0.8407\n",
      "Epoch 51/100\n",
      "14/14 [==============================] - 0s 6ms/step - loss: 0.3005 - accuracy: 0.8595\n",
      "Epoch 52/100\n",
      "14/14 [==============================] - 0s 6ms/step - loss: 0.2910 - accuracy: 0.8642\n",
      "Epoch 53/100\n",
      "14/14 [==============================] - 0s 7ms/step - loss: 0.2881 - accuracy: 0.8782\n",
      "Epoch 54/100\n",
      "14/14 [==============================] - 0s 7ms/step - loss: 0.2774 - accuracy: 0.8735\n",
      "Epoch 55/100\n",
      "14/14 [==============================] - 0s 7ms/step - loss: 0.2722 - accuracy: 0.8759\n",
      "Epoch 56/100\n",
      "14/14 [==============================] - 0s 6ms/step - loss: 0.2864 - accuracy: 0.8525\n",
      "Epoch 57/100\n",
      "14/14 [==============================] - 0s 6ms/step - loss: 0.2850 - accuracy: 0.8571\n",
      "Epoch 58/100\n",
      "14/14 [==============================] - 0s 7ms/step - loss: 0.2717 - accuracy: 0.8689\n",
      "Epoch 59/100\n",
      "14/14 [==============================] - 0s 6ms/step - loss: 0.2654 - accuracy: 0.8876\n",
      "Epoch 60/100\n",
      "14/14 [==============================] - 0s 7ms/step - loss: 0.2672 - accuracy: 0.8852\n",
      "Epoch 61/100\n",
      "14/14 [==============================] - 0s 7ms/step - loss: 0.2627 - accuracy: 0.8782\n",
      "Epoch 62/100\n",
      "14/14 [==============================] - 0s 7ms/step - loss: 0.2606 - accuracy: 0.8806\n",
      "Epoch 63/100\n",
      "14/14 [==============================] - 0s 7ms/step - loss: 0.2596 - accuracy: 0.8852\n",
      "Epoch 64/100\n",
      "14/14 [==============================] - 0s 7ms/step - loss: 0.2599 - accuracy: 0.8759\n",
      "Epoch 65/100\n",
      "14/14 [==============================] - 0s 7ms/step - loss: 0.2689 - accuracy: 0.8665\n",
      "Epoch 66/100\n",
      "14/14 [==============================] - 0s 7ms/step - loss: 0.2544 - accuracy: 0.8852\n",
      "Epoch 67/100\n",
      "14/14 [==============================] - 0s 7ms/step - loss: 0.2612 - accuracy: 0.8782\n",
      "Epoch 68/100\n",
      "14/14 [==============================] - 0s 7ms/step - loss: 0.2432 - accuracy: 0.8852\n",
      "Epoch 69/100\n",
      "14/14 [==============================] - 0s 7ms/step - loss: 0.2530 - accuracy: 0.8759\n",
      "Epoch 70/100\n",
      "14/14 [==============================] - 0s 7ms/step - loss: 0.2389 - accuracy: 0.8970\n",
      "Epoch 71/100\n",
      "14/14 [==============================] - 0s 7ms/step - loss: 0.2312 - accuracy: 0.9040\n",
      "Epoch 72/100\n",
      "14/14 [==============================] - 0s 7ms/step - loss: 0.2434 - accuracy: 0.8993\n",
      "Epoch 73/100\n",
      "14/14 [==============================] - 0s 7ms/step - loss: 0.2180 - accuracy: 0.9040\n",
      "Epoch 74/100\n",
      "14/14 [==============================] - 0s 7ms/step - loss: 0.2286 - accuracy: 0.9040\n",
      "Epoch 75/100\n",
      "14/14 [==============================] - 0s 7ms/step - loss: 0.2367 - accuracy: 0.8923\n",
      "Epoch 76/100\n",
      "14/14 [==============================] - 0s 7ms/step - loss: 0.2590 - accuracy: 0.8712\n",
      "Epoch 77/100\n",
      "14/14 [==============================] - 0s 7ms/step - loss: 0.2305 - accuracy: 0.9110\n",
      "Epoch 78/100\n",
      "14/14 [==============================] - 0s 7ms/step - loss: 0.2158 - accuracy: 0.8970\n",
      "Epoch 79/100\n",
      "14/14 [==============================] - 0s 7ms/step - loss: 0.2260 - accuracy: 0.9133\n",
      "Epoch 80/100\n",
      "14/14 [==============================] - 0s 6ms/step - loss: 0.2121 - accuracy: 0.8993\n",
      "Epoch 81/100\n",
      "14/14 [==============================] - 0s 7ms/step - loss: 0.2116 - accuracy: 0.9040\n",
      "Epoch 82/100\n",
      "14/14 [==============================] - 0s 7ms/step - loss: 0.2270 - accuracy: 0.8970\n",
      "Epoch 83/100\n",
      "14/14 [==============================] - 0s 6ms/step - loss: 0.2314 - accuracy: 0.8876\n",
      "Epoch 84/100\n",
      "14/14 [==============================] - 0s 7ms/step - loss: 0.2514 - accuracy: 0.8735\n",
      "Epoch 85/100\n",
      "14/14 [==============================] - 0s 6ms/step - loss: 0.2385 - accuracy: 0.8876\n",
      "Epoch 86/100\n",
      "14/14 [==============================] - 0s 6ms/step - loss: 0.2131 - accuracy: 0.9016\n",
      "Epoch 87/100\n",
      "14/14 [==============================] - 0s 7ms/step - loss: 0.2144 - accuracy: 0.9040\n",
      "Epoch 88/100\n",
      "14/14 [==============================] - 0s 7ms/step - loss: 0.2029 - accuracy: 0.9204\n",
      "Epoch 89/100\n",
      "14/14 [==============================] - 0s 6ms/step - loss: 0.1972 - accuracy: 0.9274\n",
      "Epoch 90/100\n",
      "14/14 [==============================] - 0s 6ms/step - loss: 0.1838 - accuracy: 0.9227\n",
      "Epoch 91/100\n",
      "14/14 [==============================] - 0s 6ms/step - loss: 0.1903 - accuracy: 0.9297\n",
      "Epoch 92/100\n",
      "14/14 [==============================] - 0s 6ms/step - loss: 0.1997 - accuracy: 0.9180\n",
      "Epoch 93/100\n",
      "14/14 [==============================] - 0s 6ms/step - loss: 0.1757 - accuracy: 0.9415\n",
      "Epoch 94/100\n",
      "14/14 [==============================] - 0s 6ms/step - loss: 0.1637 - accuracy: 0.9391\n",
      "Epoch 95/100\n",
      "14/14 [==============================] - 0s 6ms/step - loss: 0.1849 - accuracy: 0.9321\n",
      "Epoch 96/100\n",
      "14/14 [==============================] - 0s 6ms/step - loss: 0.1817 - accuracy: 0.9157\n",
      "Epoch 97/100\n",
      "14/14 [==============================] - 0s 7ms/step - loss: 0.1683 - accuracy: 0.9321\n",
      "Epoch 98/100\n",
      "14/14 [==============================] - 0s 6ms/step - loss: 0.1803 - accuracy: 0.9297\n",
      "Epoch 99/100\n",
      "14/14 [==============================] - 0s 7ms/step - loss: 0.1709 - accuracy: 0.9297\n",
      "Epoch 100/100\n",
      "14/14 [==============================] - 0s 6ms/step - loss: 0.1771 - accuracy: 0.9321\n"
     ]
    },
    {
     "data": {
      "text/plain": [
       "<keras.callbacks.History at 0x22548ab9dc0>"
      ]
     },
     "execution_count": 43,
     "metadata": {},
     "output_type": "execute_result"
    }
   ],
   "source": [
    "classifier.fit(x_train, y_train, batch_size=32 , epochs = 100)"
   ]
  },
  {
   "cell_type": "code",
   "execution_count": 44,
   "metadata": {
    "id": "d7ENjJ-eVPnK"
   },
   "outputs": [
    {
     "name": "stdout",
     "output_type": "stream",
     "text": [
      "5/5 [==============================] - 0s 3ms/step\n"
     ]
    }
   ],
   "source": [
    "ann_y_pred = classifier.predict(x_test)"
   ]
  },
  {
   "cell_type": "code",
   "execution_count": 45,
   "metadata": {
    "colab": {
     "base_uri": "https://localhost:8080/"
    },
    "id": "gibu2dgbVTdR",
    "outputId": "6767c2de-035a-44d2-f909-15aeebd92588"
   },
   "outputs": [
    {
     "data": {
      "text/plain": [
       "array([0.46508577], dtype=float32)"
      ]
     },
     "execution_count": 45,
     "metadata": {},
     "output_type": "execute_result"
    }
   ],
   "source": [
    "ann_y_pred[0]"
   ]
  },
  {
   "cell_type": "code",
   "execution_count": 46,
   "metadata": {
    "id": "trdyRDrbVZZE"
   },
   "outputs": [],
   "source": [
    "ann_y_pred = ann_y_pred >=0.5"
   ]
  },
  {
   "cell_type": "code",
   "execution_count": 47,
   "metadata": {
    "colab": {
     "base_uri": "https://localhost:8080/",
     "height": 0
    },
    "id": "BW0l2GPTVfe2",
    "outputId": "92466d3f-c1ce-48f2-e98a-caf0b72493db"
   },
   "outputs": [
    {
     "data": {
      "text/plain": [
       "<AxesSubplot:>"
      ]
     },
     "execution_count": 47,
     "metadata": {},
     "output_type": "execute_result"
    },
    {
     "data": {
      "image/png": "[encoded data removed]",
      "text/plain": [
       "<Figure size 640x480 with 2 Axes>"
      ]
     },
     "metadata": {},
     "output_type": "display_data"
    }
   ],
   "source": [
    "from sklearn.metrics import confusion_matrix\n",
    "ann_cm = confusion_matrix(y_test, ann_y_pred)\n",
    "sns.heatmap(ann_cm , annot=True)"
   ]
  },
  {
   "cell_type": "code",
   "execution_count": 48,
   "metadata": {
    "colab": {
     "base_uri": "https://localhost:8080/"
    },
    "id": "jOioQHpZVoFq",
    "outputId": "508a93be-b770-43b8-978a-8a93bb1089e9"
   },
   "outputs": [
    {
     "name": "stdout",
     "output_type": "stream",
     "text": [
      "0.6713286713286714\n",
      "0.7592592592592593\n"
     ]
    }
   ],
   "source": [
    "from sklearn.metrics import accuracy_score, precision_score\n",
    "print(accuracy_score(y_test,ann_y_pred))\n",
    "print(precision_score(y_test , ann_y_pred))"
   ]
  },
  {
   "cell_type": "markdown",
   "metadata": {
    "id": "bI7wYNfPWP-W"
   },
   "source": [
    "#saving the models"
   ]
  },
  {
   "cell_type": "code",
   "execution_count": 49,
   "metadata": {
    "id": "znhiirg_WO_I"
   },
   "outputs": [],
   "source": [
    "import pickle\n",
    "pickle.dump(svm_classifier, open('model.pkl', 'wb'))\n",
    "pickle.dump(sc, open('sc.pkl', 'wb'))"
   ]
  }
 ],
 "metadata": {
  "colab": {
   "name": "Liver Disease Prediction.ipynb",
   "provenance": [],
   "toc_visible": true
  },
  "kernelspec": {
   "display_name": "Python 3 (ipykernel)",
   "language": "python",
   "name": "python3"
  },
  "language_info": {
   "codemirror_mode": {
    "name": "ipython",
    "version": 3
   },
   "file_extension": ".py",
   "mimetype": "text/x-python",
   "name": "python",
   "nbconvert_exporter": "python",
   "pygments_lexer": "ipython3",
   "version": "3.9.12"
  }
 },
 "nbformat": 4,
 "nbformat_minor": 1
}
